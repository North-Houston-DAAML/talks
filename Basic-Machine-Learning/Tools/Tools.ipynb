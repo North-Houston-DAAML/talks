{
 "cells": [
  {
   "cell_type": "markdown",
   "id": "df2c3675",
   "metadata": {},
   "source": [
    "# Lists"
   ]
  },
  {
   "cell_type": "code",
   "execution_count": 1,
   "id": "69ace9d5",
   "metadata": {},
   "outputs": [
    {
     "name": "stdout",
     "output_type": "stream",
     "text": [
      "[1, 'hello', False]\n"
     ]
    }
   ],
   "source": [
    "a = [1, \"hello\", False]\n",
    "print(a)"
   ]
  },
  {
   "cell_type": "code",
   "execution_count": 2,
   "id": "d50241bc",
   "metadata": {},
   "outputs": [
    {
     "name": "stdout",
     "output_type": "stream",
     "text": [
      "[25.67, [1, 'hello', False], [3, 4]]\n"
     ]
    }
   ],
   "source": [
    "b = [25.67, a, [3, 4]]\n",
    "print(b)"
   ]
  },
  {
   "cell_type": "code",
   "execution_count": 3,
   "id": "ebfbd7b3",
   "metadata": {},
   "outputs": [
    {
     "data": {
      "text/plain": [
       "'hello'"
      ]
     },
     "execution_count": 3,
     "metadata": {},
     "output_type": "execute_result"
    }
   ],
   "source": [
    "a[1]"
   ]
  },
  {
   "cell_type": "code",
   "execution_count": 4,
   "id": "0b6f143f",
   "metadata": {},
   "outputs": [
    {
     "data": {
      "text/plain": [
       "[1, 'hello']"
      ]
     },
     "execution_count": 4,
     "metadata": {},
     "output_type": "execute_result"
    }
   ],
   "source": [
    "a[0:2]"
   ]
  },
  {
   "cell_type": "code",
   "execution_count": 5,
   "id": "d8a9123e",
   "metadata": {},
   "outputs": [
    {
     "data": {
      "text/plain": [
       "False"
      ]
     },
     "execution_count": 5,
     "metadata": {},
     "output_type": "execute_result"
    }
   ],
   "source": [
    "b[-2][2]"
   ]
  },
  {
   "cell_type": "code",
   "execution_count": 6,
   "id": "9ba8819e",
   "metadata": {},
   "outputs": [
    {
     "data": {
      "text/plain": [
       "[1, 'hello', False, 1, 'hello', False, 25.67, [1, 'hello', False], [3, 4]]"
      ]
     },
     "execution_count": 6,
     "metadata": {},
     "output_type": "execute_result"
    }
   ],
   "source": [
    "2 * a + b"
   ]
  },
  {
   "cell_type": "code",
   "execution_count": 7,
   "id": "8a502a47",
   "metadata": {},
   "outputs": [
    {
     "name": "stdout",
     "output_type": "stream",
     "text": [
      "[1, 'hello', False]\n",
      "[1, 'hello', False, 'new']\n"
     ]
    }
   ],
   "source": [
    "print(a)\n",
    "a.append(\"new\")\n",
    "print(a)"
   ]
  },
  {
   "cell_type": "code",
   "execution_count": 8,
   "id": "5b0b4100",
   "metadata": {},
   "outputs": [
    {
     "name": "stdout",
     "output_type": "stream",
     "text": [
      "[1, False, 'new']\n"
     ]
    }
   ],
   "source": [
    "del(a[1])\n",
    "print(a)"
   ]
  },
  {
   "cell_type": "code",
   "execution_count": 9,
   "id": "4ef17553",
   "metadata": {},
   "outputs": [
    {
     "data": {
      "text/plain": [
       "3"
      ]
     },
     "execution_count": 9,
     "metadata": {},
     "output_type": "execute_result"
    }
   ],
   "source": [
    "len(b)"
   ]
  },
  {
   "cell_type": "code",
   "execution_count": 10,
   "id": "436e3c4e",
   "metadata": {},
   "outputs": [
    {
     "name": "stdout",
     "output_type": "stream",
     "text": [
      "[1, False, 'new']\n",
      "['new', False, 1]\n"
     ]
    }
   ],
   "source": [
    "print(a)\n",
    "print(list(reversed(a)))"
   ]
  },
  {
   "cell_type": "code",
   "execution_count": 11,
   "id": "3b7f9766",
   "metadata": {},
   "outputs": [
    {
     "data": {
      "text/plain": [
       "[0, 1, 4, 9, 16, 25, 36, 49, 64, 81]"
      ]
     },
     "execution_count": 11,
     "metadata": {},
     "output_type": "execute_result"
    }
   ],
   "source": [
    "[x ** 2 for x in range(10)]"
   ]
  },
  {
   "cell_type": "markdown",
   "id": "d3685eaf",
   "metadata": {},
   "source": [
    "# Dictionaries"
   ]
  },
  {
   "cell_type": "code",
   "execution_count": 12,
   "id": "b1412f7a",
   "metadata": {},
   "outputs": [
    {
     "name": "stdout",
     "output_type": "stream",
     "text": [
      "{'TX': 'Austin', 'CA': 'Sacramento', 'AZ': 'Phoenix'}\n"
     ]
    }
   ],
   "source": [
    "c = {\"TX\" : \"Austin\", \"CA\" : \"Sacramento\", \"AZ\" : \"Phoenix\"}\n",
    "print(c)"
   ]
  },
  {
   "cell_type": "code",
   "execution_count": 13,
   "id": "a7b14d16",
   "metadata": {},
   "outputs": [
    {
     "name": "stdout",
     "output_type": "stream",
     "text": [
      "{'jack': [1, False, 'new'], 'jill': [25.67, [1, False, 'new'], [3, 4]]}\n"
     ]
    }
   ],
   "source": [
    "d = {\"jack\" : a, \"jill\" : b}\n",
    "print(d)"
   ]
  },
  {
   "cell_type": "code",
   "execution_count": 14,
   "id": "94ada13f",
   "metadata": {},
   "outputs": [
    {
     "data": {
      "text/plain": [
       "'Austin'"
      ]
     },
     "execution_count": 14,
     "metadata": {},
     "output_type": "execute_result"
    }
   ],
   "source": [
    "c[\"TX\"]"
   ]
  },
  {
   "cell_type": "code",
   "execution_count": 15,
   "id": "427cf44e",
   "metadata": {},
   "outputs": [
    {
     "data": {
      "text/plain": [
       "'new'"
      ]
     },
     "execution_count": 15,
     "metadata": {},
     "output_type": "execute_result"
    }
   ],
   "source": [
    "d[\"jack\"][2]"
   ]
  },
  {
   "cell_type": "code",
   "execution_count": 16,
   "id": "4a629398",
   "metadata": {},
   "outputs": [
    {
     "name": "stdout",
     "output_type": "stream",
     "text": [
      "{'TX': 'Austin', 'CA': 'Sacramento', 'AZ': 'Phoenix'}\n",
      "{'TX': 'Austin', 'CA': 'Sacramento', 'AZ': 'Phoenix', 'CO': 'Denver'}\n"
     ]
    }
   ],
   "source": [
    "print(c)\n",
    "c[\"CO\"] = \"Denver\"\n",
    "print(c)"
   ]
  },
  {
   "cell_type": "code",
   "execution_count": 17,
   "id": "cfc59b81",
   "metadata": {},
   "outputs": [
    {
     "name": "stdout",
     "output_type": "stream",
     "text": [
      "{'jack': [1, False, 'new'], 'jill': [25.67, [1, False, 'new'], [3, 4]]}\n",
      "{'jack': [1, False, 'new']}\n"
     ]
    }
   ],
   "source": [
    "print(d)\n",
    "del(d[\"jill\"])\n",
    "print(d)"
   ]
  },
  {
   "cell_type": "code",
   "execution_count": 18,
   "id": "60e70d75",
   "metadata": {},
   "outputs": [
    {
     "data": {
      "text/plain": [
       "4"
      ]
     },
     "execution_count": 18,
     "metadata": {},
     "output_type": "execute_result"
    }
   ],
   "source": [
    "len(c)"
   ]
  },
  {
   "cell_type": "code",
   "execution_count": 19,
   "id": "8ced6b12",
   "metadata": {},
   "outputs": [
    {
     "data": {
      "text/plain": [
       "dict_keys(['TX', 'CA', 'AZ', 'CO'])"
      ]
     },
     "execution_count": 19,
     "metadata": {},
     "output_type": "execute_result"
    }
   ],
   "source": [
    "c.keys()"
   ]
  },
  {
   "cell_type": "code",
   "execution_count": 20,
   "id": "15198988",
   "metadata": {},
   "outputs": [
    {
     "data": {
      "text/plain": [
       "dict_values(['Austin', 'Sacramento', 'Phoenix', 'Denver'])"
      ]
     },
     "execution_count": 20,
     "metadata": {},
     "output_type": "execute_result"
    }
   ],
   "source": [
    "c.values()"
   ]
  },
  {
   "cell_type": "markdown",
   "id": "8c034bcb",
   "metadata": {},
   "source": [
    "# NumPy"
   ]
  },
  {
   "cell_type": "code",
   "execution_count": 21,
   "id": "eb920725",
   "metadata": {},
   "outputs": [],
   "source": [
    "import numpy"
   ]
  },
  {
   "cell_type": "code",
   "execution_count": 22,
   "id": "22a79e83",
   "metadata": {},
   "outputs": [
    {
     "name": "stdout",
     "output_type": "stream",
     "text": [
      "[3.1 4.5 6.7]\n"
     ]
    }
   ],
   "source": [
    "u = numpy.array([3.1, 4.5, 6.7])\n",
    "print(u)"
   ]
  },
  {
   "cell_type": "code",
   "execution_count": 23,
   "id": "e90cc9d9",
   "metadata": {},
   "outputs": [
    {
     "name": "stdout",
     "output_type": "stream",
     "text": [
      "[0 1 2]\n"
     ]
    }
   ],
   "source": [
    "v = numpy.array([i for i in range(3)])\n",
    "print(v)"
   ]
  },
  {
   "cell_type": "code",
   "execution_count": 24,
   "id": "59114ffc",
   "metadata": {},
   "outputs": [
    {
     "data": {
      "text/plain": [
       "17.9"
      ]
     },
     "execution_count": 24,
     "metadata": {},
     "output_type": "execute_result"
    }
   ],
   "source": [
    "numpy.dot(u, v)"
   ]
  },
  {
   "cell_type": "code",
   "execution_count": 25,
   "id": "7fd22df8",
   "metadata": {},
   "outputs": [
    {
     "name": "stdout",
     "output_type": "stream",
     "text": [
      "[[1.1 4.2 5.5]\n",
      " [8.1 9.1 0.2]\n",
      " [3.2 6.8 7.1]]\n"
     ]
    }
   ],
   "source": [
    "A = numpy.array([[1.1, 4.2, 5.5], [8.1, 9.1, 0.2], [3.2, 6.8, 7.1]])\n",
    "print(A)"
   ]
  },
  {
   "cell_type": "code",
   "execution_count": 26,
   "id": "4a8da85a",
   "metadata": {},
   "outputs": [
    {
     "name": "stdout",
     "output_type": "stream",
     "text": [
      "[[0 1 2]\n",
      " [1 2 3]\n",
      " [2 3 4]]\n"
     ]
    }
   ],
   "source": [
    "B = numpy.array([[i + j for i in range(3)] for j in range(3)])\n",
    "print(B)"
   ]
  },
  {
   "cell_type": "code",
   "execution_count": 27,
   "id": "a755c50d",
   "metadata": {},
   "outputs": [
    {
     "data": {
      "text/plain": [
       "array([[ 1.1,  7.2, 11.5],\n",
       "       [11.1, 15.1,  9.2],\n",
       "       [ 9.2, 15.8, 19.1]])"
      ]
     },
     "execution_count": 27,
     "metadata": {},
     "output_type": "execute_result"
    }
   ],
   "source": [
    "A + 3*B"
   ]
  },
  {
   "cell_type": "code",
   "execution_count": 28,
   "id": "96e02a31",
   "metadata": {},
   "outputs": [
    {
     "data": {
      "text/plain": [
       "array([[11.1, 14.2, 15.5],\n",
       "       [18.1, 19.1, 10.2],\n",
       "       [13.2, 16.8, 17.1]])"
      ]
     },
     "execution_count": 28,
     "metadata": {},
     "output_type": "execute_result"
    }
   ],
   "source": [
    "A + 10"
   ]
  },
  {
   "cell_type": "code",
   "execution_count": 29,
   "id": "68bd8d98",
   "metadata": {},
   "outputs": [
    {
     "data": {
      "text/plain": [
       "array([[1.1, 8.1, 3.2],\n",
       "       [4.2, 9.1, 6.8],\n",
       "       [5.5, 0.2, 7.1]])"
      ]
     },
     "execution_count": 29,
     "metadata": {},
     "output_type": "execute_result"
    }
   ],
   "source": [
    "A.transpose()"
   ]
  },
  {
   "cell_type": "code",
   "execution_count": 30,
   "id": "cfc330a1",
   "metadata": {},
   "outputs": [],
   "source": [
    "C = numpy.linalg.inv(A)\n"
   ]
  },
  {
   "cell_type": "code",
   "execution_count": 31,
   "id": "fef7a586",
   "metadata": {},
   "outputs": [
    {
     "name": "stdout",
     "output_type": "stream",
     "text": [
      "[[ 1.00000000e+00 -4.16333634e-17 -6.66133815e-16]\n",
      " [-8.71299251e-16  1.00000000e+00 -4.95092057e-16]\n",
      " [-6.51155713e-16 -5.05456485e-17  1.00000000e+00]]\n"
     ]
    }
   ],
   "source": [
    "D = numpy.matmul(A, C)\n",
    "print(D)"
   ]
  },
  {
   "cell_type": "code",
   "execution_count": 32,
   "id": "464ecc44",
   "metadata": {},
   "outputs": [
    {
     "name": "stdout",
     "output_type": "stream",
     "text": [
      "[[1. 0. 0.]\n",
      " [0. 1. 0.]\n",
      " [0. 0. 1.]]\n"
     ]
    }
   ],
   "source": [
    "D[D < 1e-10] = 0.0\n",
    "print(D)"
   ]
  },
  {
   "cell_type": "code",
   "execution_count": 33,
   "id": "e057ff0d",
   "metadata": {},
   "outputs": [
    {
     "data": {
      "text/plain": [
       "array([8.1, 9.1, 0.2])"
      ]
     },
     "execution_count": 33,
     "metadata": {},
     "output_type": "execute_result"
    }
   ],
   "source": [
    "A[1, :]"
   ]
  },
  {
   "cell_type": "code",
   "execution_count": 34,
   "id": "45f477e2",
   "metadata": {},
   "outputs": [
    {
     "data": {
      "text/plain": [
       "array([5.5, 0.2, 7.1])"
      ]
     },
     "execution_count": 34,
     "metadata": {},
     "output_type": "execute_result"
    }
   ],
   "source": [
    "A[:, 2]"
   ]
  },
  {
   "cell_type": "markdown",
   "id": "2a931d8f",
   "metadata": {},
   "source": [
    "[NumPy backpropagation demo code](https://automaticprogramming.info#backpropagation-method)"
   ]
  },
  {
   "cell_type": "code",
   "execution_count": 35,
   "id": "5c678078",
   "metadata": {},
   "outputs": [
    {
     "data": {
      "image/jpeg": "[encoded data removed]",
      "text/html": [
       "\n",
       "        <iframe\n",
       "            width=\"640\"\n",
       "            height=\"532\"\n",
       "            src=\"https://www.youtube.com/embed/k-ERKuqjWc4\"\n",
       "            frameborder=\"0\"\n",
       "            allowfullscreen\n",
       "        ></iframe>\n",
       "        "
      ],
      "text/plain": [
       "<IPython.lib.display.YouTubeVideo at 0x7f0e0c366630>"
      ]
     },
     "execution_count": 35,
     "metadata": {},
     "output_type": "execute_result"
    }
   ],
   "source": [
    "from IPython.display import YouTubeVideo\n",
    "\n",
    "YouTubeVideo('k-ERKuqjWc4', width=640, height=532)"
   ]
  },
  {
   "cell_type": "markdown",
   "id": "05da2e79",
   "metadata": {},
   "source": [
    "# Pandas"
   ]
  },
  {
   "cell_type": "code",
   "execution_count": 36,
   "id": "57c919e3",
   "metadata": {},
   "outputs": [],
   "source": [
    "import pandas"
   ]
  },
  {
   "cell_type": "code",
   "execution_count": 37,
   "id": "4eaea27a",
   "metadata": {},
   "outputs": [
    {
     "name": "stdout",
     "output_type": "stream",
     "text": [
      "0    11\n",
      "1    22\n",
      "2    33\n",
      "dtype: int64\n"
     ]
    }
   ],
   "source": [
    "s_1 = pandas.Series([11, 22, 33])\n",
    "print(s_1)"
   ]
  },
  {
   "cell_type": "code",
   "execution_count": 38,
   "id": "50ffdf68",
   "metadata": {},
   "outputs": [
    {
     "name": "stdout",
     "output_type": "stream",
     "text": [
      "a    52\n",
      "c    67\n",
      "dtype: int64\n"
     ]
    }
   ],
   "source": [
    "s_2 = pandas.Series({\"a\" : 52, \"c\" : 67})\n",
    "print(s_2)"
   ]
  },
  {
   "cell_type": "code",
   "execution_count": 39,
   "id": "f1993cd0",
   "metadata": {},
   "outputs": [
    {
     "name": "stdout",
     "output_type": "stream",
     "text": [
      "0    0.0\n",
      "1    0.3\n",
      "2    0.6\n",
      "3    0.9\n",
      "4    1.2\n",
      "5    1.5\n",
      "6    1.8\n",
      "dtype: float64\n"
     ]
    }
   ],
   "source": [
    "s_3 = pandas.Series(numpy.arange(0.0, 2.0, 0.3))\n",
    "print(s_3)"
   ]
  },
  {
   "cell_type": "code",
   "execution_count": 40,
   "id": "03308908",
   "metadata": {},
   "outputs": [
    {
     "name": "stdout",
     "output_type": "stream",
     "text": [
      "0    a\n",
      "1    b\n",
      "2    c\n",
      "dtype: object\n"
     ]
    }
   ],
   "source": [
    "s_4 = pandas.Series([\"a\", \"b\", \"c\"])\n",
    "print(s_4)"
   ]
  },
  {
   "cell_type": "code",
   "execution_count": 41,
   "id": "e2a642ad",
   "metadata": {},
   "outputs": [
    {
     "name": "stdout",
     "output_type": "stream",
     "text": [
      "first       Joe\n",
      "middle    Scott\n",
      "last      Smith\n",
      "dtype: object\n"
     ]
    }
   ],
   "source": [
    "s_5 = pandas.Series([\"Joe\", \"Scott\", \"Smith\"], index = [\"first\", \"middle\", \"last\"])\n",
    "print(s_5)"
   ]
  },
  {
   "cell_type": "code",
   "execution_count": 42,
   "id": "5df05071",
   "metadata": {},
   "outputs": [
    {
     "data": {
      "text/plain": [
       "22"
      ]
     },
     "execution_count": 42,
     "metadata": {},
     "output_type": "execute_result"
    }
   ],
   "source": [
    "s_1[1]"
   ]
  },
  {
   "cell_type": "code",
   "execution_count": 43,
   "id": "59a54487",
   "metadata": {},
   "outputs": [
    {
     "data": {
      "text/plain": [
       "67"
      ]
     },
     "execution_count": 43,
     "metadata": {},
     "output_type": "execute_result"
    }
   ],
   "source": [
    "s_2[\"c\"]"
   ]
  },
  {
   "cell_type": "code",
   "execution_count": 44,
   "id": "00b0e01a",
   "metadata": {},
   "outputs": [
    {
     "data": {
      "text/plain": [
       "'Smith'"
      ]
     },
     "execution_count": 44,
     "metadata": {},
     "output_type": "execute_result"
    }
   ],
   "source": [
    "s_5[\"last\"]"
   ]
  },
  {
   "cell_type": "code",
   "execution_count": 45,
   "id": "7970434b",
   "metadata": {},
   "outputs": [
    {
     "data": {
      "text/plain": [
       "2    0.6\n",
       "3    0.9\n",
       "4    1.2\n",
       "dtype: float64"
      ]
     },
     "execution_count": 45,
     "metadata": {},
     "output_type": "execute_result"
    }
   ],
   "source": [
    "s_3[2:5]"
   ]
  },
  {
   "cell_type": "code",
   "execution_count": 46,
   "id": "c7f492b0",
   "metadata": {},
   "outputs": [
    {
     "name": "stdout",
     "output_type": "stream",
     "text": [
      "    0   1   2\n",
      "0  11  22  33\n",
      "1  44  55  66\n",
      "2  77  88  99\n"
     ]
    }
   ],
   "source": [
    "df_1 = pandas.DataFrame([[11, 22, 33], [44, 55, 66], [77, 88, 99]])\n",
    "print(df_1)"
   ]
  },
  {
   "cell_type": "code",
   "execution_count": 47,
   "id": "0853ec35",
   "metadata": {},
   "outputs": [
    {
     "name": "stdout",
     "output_type": "stream",
     "text": [
      "   0  1  2\n",
      "0  a  b  c\n",
      "1  d  e  f\n"
     ]
    }
   ],
   "source": [
    "df_2 = pandas.DataFrame([[\"a\", \"b\", \"c\"], [\"d\", \"e\", \"f\"]])\n",
    "print(df_2)"
   ]
  },
  {
   "cell_type": "code",
   "execution_count": 48,
   "id": "10cbdaed",
   "metadata": {},
   "outputs": [
    {
     "name": "stdout",
     "output_type": "stream",
     "text": [
      "    d   e   f\n",
      "a  11  22  33\n",
      "b  44  55  66\n",
      "c  77  88  99\n"
     ]
    }
   ],
   "source": [
    "df_4 = pandas.DataFrame([[11, 22, 33], [44, 55, 66], [77, 88, 99]],\n",
    "                        index   = [\"a\", \"b\", \"c\"],\n",
    "                        columns = [\"d\", \"e\", \"f\"])\n",
    "print(df_4)"
   ]
  },
  {
   "cell_type": "code",
   "execution_count": 49,
   "id": "62c48a6b",
   "metadata": {},
   "outputs": [
    {
     "name": "stdout",
     "output_type": "stream",
     "text": [
      "df_4 row \"b\":\n",
      "d    44\n",
      "e    55\n",
      "f    66\n",
      "Name: b, dtype: int64\n"
     ]
    }
   ],
   "source": [
    "print('df_4 row \"b\":')\n",
    "print(df_4.loc[\"b\"])"
   ]
  },
  {
   "cell_type": "code",
   "execution_count": 50,
   "id": "ed315062",
   "metadata": {},
   "outputs": [
    {
     "name": "stdout",
     "output_type": "stream",
     "text": [
      "df_4 third row:\n",
      "d    77\n",
      "e    88\n",
      "f    99\n",
      "Name: c, dtype: int64\n"
     ]
    }
   ],
   "source": [
    "print(\"df_4 third row:\")\n",
    "print(df_4.iloc[2])"
   ]
  },
  {
   "cell_type": "code",
   "execution_count": 51,
   "id": "061e682e",
   "metadata": {},
   "outputs": [
    {
     "name": "stdout",
     "output_type": "stream",
     "text": [
      "df_4 set of rows:\n",
      "    d   e   f\n",
      "b  44  55  66\n",
      "c  77  88  99\n"
     ]
    }
   ],
   "source": [
    "print(\"df_4 set of rows:\")\n",
    "print(df_4.iloc[1:])"
   ]
  },
  {
   "cell_type": "code",
   "execution_count": 52,
   "id": "d28ae3d1",
   "metadata": {},
   "outputs": [
    {
     "name": "stdout",
     "output_type": "stream",
     "text": [
      "df_4 column \"e\":\n",
      "a    22\n",
      "b    55\n",
      "c    88\n",
      "Name: e, dtype: int64\n"
     ]
    }
   ],
   "source": [
    "print('df_4 column \"e\":')\n",
    "print(df_4[\"e\"])"
   ]
  },
  {
   "cell_type": "code",
   "execution_count": 53,
   "id": "9d8f88d9",
   "metadata": {},
   "outputs": [
    {
     "name": "stdout",
     "output_type": "stream",
     "text": [
      "df_4 third column:\n",
      "a    33\n",
      "b    66\n",
      "c    99\n",
      "Name: f, dtype: int64\n"
     ]
    }
   ],
   "source": [
    "print(\"df_4 third column:\")\n",
    "print(df_4[df_4.columns[2]])"
   ]
  },
  {
   "cell_type": "code",
   "execution_count": 54,
   "id": "db980f9f",
   "metadata": {},
   "outputs": [
    {
     "name": "stdout",
     "output_type": "stream",
     "text": [
      "df_4 columns including and after the second one:\n",
      "    e   f\n",
      "a  22  33\n",
      "b  55  66\n",
      "c  88  99\n"
     ]
    }
   ],
   "source": [
    "print(\"df_4 columns including and after the second one:\")\n",
    "print(df_4[df_4.columns[1:]])"
   ]
  },
  {
   "cell_type": "code",
   "execution_count": 55,
   "id": "1f1582a5",
   "metadata": {},
   "outputs": [
    {
     "data": {
      "text/plain": [
       "Index(['a', 'b', 'c'], dtype='object')"
      ]
     },
     "execution_count": 55,
     "metadata": {},
     "output_type": "execute_result"
    }
   ],
   "source": [
    "df_4.index"
   ]
  },
  {
   "cell_type": "code",
   "execution_count": 56,
   "id": "fef8e0d6",
   "metadata": {},
   "outputs": [
    {
     "data": {
      "text/plain": [
       "Index(['d', 'e', 'f'], dtype='object')"
      ]
     },
     "execution_count": 56,
     "metadata": {},
     "output_type": "execute_result"
    }
   ],
   "source": [
    "df_4.columns"
   ]
  },
  {
   "cell_type": "code",
   "execution_count": 57,
   "id": "a3402594",
   "metadata": {},
   "outputs": [
    {
     "name": "stdout",
     "output_type": "stream",
     "text": [
      "    d   e   f\n",
      "a  11  22  33\n",
      "b  44  55  66\n",
      "c  77  88  99\n",
      "    d   e       f\n",
      "a  11  22      33\n",
      "b  44  55  777777\n",
      "c  77  88      99\n"
     ]
    }
   ],
   "source": [
    "print(df_4)\n",
    "df_4.at[\"b\", \"f\"] = 777777\n",
    "print(df_4)"
   ]
  },
  {
   "cell_type": "code",
   "execution_count": 58,
   "id": "43575c6c",
   "metadata": {},
   "outputs": [
    {
     "name": "stdout",
     "output_type": "stream",
     "text": [
      "    d   e       f\n",
      "a  11  22      33\n",
      "b  44  55  777777\n",
      "c  77  88      99\n",
      "    d   e       f   g\n",
      "a  11  22      33  aa\n",
      "b  44  55  777777  bb\n",
      "c  77  88      99  cc\n"
     ]
    }
   ],
   "source": [
    "print(df_4)\n",
    "df_4[\"g\"] = [\"aa\", \"bb\", \"cc\"]\n",
    "print(df_4)"
   ]
  },
  {
   "cell_type": "code",
   "execution_count": 59,
   "id": "8138015b",
   "metadata": {},
   "outputs": [
    {
     "name": "stdout",
     "output_type": "stream",
     "text": [
      "    d   e       f   g\n",
      "a  11  22      33  aa\n",
      "b  44  55  777777  bb\n",
      "c  77  88      99  cc\n",
      "    d       f   g\n",
      "a  11      33  aa\n",
      "b  44  777777  bb\n",
      "c  77      99  cc\n"
     ]
    }
   ],
   "source": [
    "print(df_4)\n",
    "del(df_4[\"e\"])\n",
    "print(df_4)"
   ]
  },
  {
   "cell_type": "code",
   "execution_count": 60,
   "id": "5e666d84",
   "metadata": {},
   "outputs": [
    {
     "name": "stdout",
     "output_type": "stream",
     "text": [
      "    d       f   g\n",
      "a  11      33  aa\n",
      "b  44  777777  bb\n",
      "c  77      99  cc\n",
      "    a       b   c\n",
      "d  11      44  77\n",
      "f  33  777777  99\n",
      "g  aa      bb  cc\n"
     ]
    }
   ],
   "source": [
    "print(df_4)\n",
    "print(df_4.T)"
   ]
  },
  {
   "cell_type": "markdown",
   "id": "2ce758d1",
   "metadata": {},
   "source": [
    "# Jupyter Notebooks"
   ]
  },
  {
   "cell_type": "code",
   "execution_count": 61,
   "id": "05e1ea0a",
   "metadata": {},
   "outputs": [],
   "source": [
    "a = 1"
   ]
  },
  {
   "cell_type": "code",
   "execution_count": 62,
   "id": "9ba940de",
   "metadata": {},
   "outputs": [
    {
     "data": {
      "text/plain": [
       "True"
      ]
     },
     "execution_count": 62,
     "metadata": {},
     "output_type": "execute_result"
    }
   ],
   "source": [
    "a + a == 2"
   ]
  },
  {
   "cell_type": "code",
   "execution_count": 63,
   "id": "12e9f775",
   "metadata": {},
   "outputs": [],
   "source": [
    "a = 0"
   ]
  },
  {
   "cell_type": "markdown",
   "id": "31d0491b",
   "metadata": {},
   "source": [
    "## (Run all cells in order then try running the second to last cell again.)"
   ]
  }
 ],
 "metadata": {
  "kernelspec": {
   "display_name": "conda_python3",
   "language": "python",
   "name": "conda_python3"
  },
  "language_info": {
   "codemirror_mode": {
    "name": "ipython",
    "version": 3
   },
   "file_extension": ".py",
   "mimetype": "text/x-python",
   "name": "python",
   "nbconvert_exporter": "python",
   "pygments_lexer": "ipython3",
   "version": "3.6.13"
  }
 },
 "nbformat": 4,
 "nbformat_minor": 5
}
